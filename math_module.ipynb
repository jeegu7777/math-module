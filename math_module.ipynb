{
  "nbformat": 4,
  "nbformat_minor": 0,
  "metadata": {
    "colab": {
      "provenance": []
    },
    "kernelspec": {
      "name": "python3",
      "display_name": "Python 3"
    },
    "language_info": {
      "name": "python"
    }
  },
  "cells": [
    {
      "cell_type": "markdown",
      "source": [
        "Python has a built-in module that you can use for mathematical tasks.\n",
        "\n",
        "The math module has a set of methods and constants."
      ],
      "metadata": {
        "id": "3LVvox12Z3Ns"
      }
    },
    {
      "cell_type": "code",
      "source": [
        "import math"
      ],
      "metadata": {
        "id": "YCSbj644cLG3"
      },
      "execution_count": 2,
      "outputs": []
    },
    {
      "cell_type": "markdown",
      "source": [
        "# math.ceil"
      ],
      "metadata": {
        "id": "ZJfeggSMZ-5P"
      }
    },
    {
      "cell_type": "code",
      "source": [
        "# Round a number upward to its nearest integer:\n",
        "\n",
        "x = 10.3\n",
        "print(math.ceil(x))\n"
      ],
      "metadata": {
        "colab": {
          "base_uri": "https://localhost:8080/"
        },
        "id": "QvrzNofYZ-LJ",
        "outputId": "eebdfb66-bd91-4936-bfa0-1a26ef7f9dab"
      },
      "execution_count": null,
      "outputs": [
        {
          "output_type": "stream",
          "name": "stdout",
          "text": [
            "11\n"
          ]
        }
      ]
    },
    {
      "cell_type": "code",
      "source": [
        "a = 11.1\n",
        "print(math.ceil(a))"
      ],
      "metadata": {
        "colab": {
          "base_uri": "https://localhost:8080/"
        },
        "id": "SpOG96n6Z7jd",
        "outputId": "a8c44195-73cd-4043-f05f-50c07bfbdc35"
      },
      "execution_count": null,
      "outputs": [
        {
          "output_type": "stream",
          "name": "stdout",
          "text": [
            "12\n"
          ]
        }
      ]
    },
    {
      "cell_type": "code",
      "source": [
        "print(math.ceil(12))\n",
        "print(math.ceil(12.8))"
      ],
      "metadata": {
        "colab": {
          "base_uri": "https://localhost:8080/"
        },
        "id": "nwpo2wSBcQs_",
        "outputId": "a4cd6212-f02b-4601-cce3-6f1f4ad19ec0"
      },
      "execution_count": null,
      "outputs": [
        {
          "output_type": "stream",
          "name": "stdout",
          "text": [
            "12\n",
            "13\n"
          ]
        }
      ]
    },
    {
      "cell_type": "code",
      "source": [
        "print(math.ceil(-10.2))"
      ],
      "metadata": {
        "colab": {
          "base_uri": "https://localhost:8080/"
        },
        "id": "fyIoUw2ZcU-6",
        "outputId": "d13e6a98-3fac-44c8-a6fa-3c05c5d27541"
      },
      "execution_count": null,
      "outputs": [
        {
          "output_type": "stream",
          "name": "stdout",
          "text": [
            "-10\n"
          ]
        }
      ]
    },
    {
      "cell_type": "markdown",
      "source": [
        "# math.acos"
      ],
      "metadata": {
        "id": "UOGthqHRcvUZ"
      }
    },
    {
      "cell_type": "code",
      "source": [
        "# Return the arc cosine of numbers\n",
        "print(math.acos(0.55))\n",
        "print(math.acos(-0.55))\n",
        "print(math.acos(0))\n",
        "print(math.acos(1))\n",
        "print(math.acos(-1))\n"
      ],
      "metadata": {
        "colab": {
          "base_uri": "https://localhost:8080/"
        },
        "id": "4rch1Ia7cab_",
        "outputId": "db94ecb4-df97-4097-d497-ed0baa14f2d9"
      },
      "execution_count": null,
      "outputs": [
        {
          "output_type": "stream",
          "name": "stdout",
          "text": [
            "0.9884320889261531\n",
            "2.15316056466364\n",
            "1.5707963267948966\n",
            "0.0\n",
            "3.141592653589793\n"
          ]
        }
      ]
    },
    {
      "cell_type": "markdown",
      "source": [
        "# math.asin"
      ],
      "metadata": {
        "id": "1fozEXShdLlM"
      }
    },
    {
      "cell_type": "code",
      "source": [
        "# Return the arc sine of numbers\n",
        "print(math.asin(0.55))\n",
        "print(math.asin(-0.55))\n",
        "print(math.asin(0))\n",
        "print(math.asin(1))\n",
        "print(math.asin(-1))\n"
      ],
      "metadata": {
        "id": "c09xYWPTc1HS"
      },
      "execution_count": null,
      "outputs": []
    },
    {
      "cell_type": "markdown",
      "source": [
        "# math.gamma"
      ],
      "metadata": {
        "id": "UTvEIaiEdWgP"
      }
    },
    {
      "cell_type": "code",
      "source": [
        "x = 10\n",
        "print(math.gamma(10))\n"
      ],
      "metadata": {
        "colab": {
          "base_uri": "https://localhost:8080/"
        },
        "id": "0pj6Ka1ddY0_",
        "outputId": "a5c72892-210f-40bf-bb24-18c34f673842"
      },
      "execution_count": null,
      "outputs": [
        {
          "output_type": "stream",
          "name": "stdout",
          "text": [
            "362880.0\n"
          ]
        }
      ]
    },
    {
      "cell_type": "markdown",
      "source": [
        "# math.log"
      ],
      "metadata": {
        "id": "JXLbLvj5dvbT"
      }
    },
    {
      "cell_type": "code",
      "source": [
        "import math\n",
        "\n",
        "# Return the natural logarithm of different numbers\n",
        "print(math.log(2.7183))\n",
        "print(math.log(2))\n",
        "print(math.log(1))\n"
      ],
      "metadata": {
        "colab": {
          "base_uri": "https://localhost:8080/"
        },
        "id": "GFeobkt7d211",
        "outputId": "98a835b8-12e8-4ec6-e926-caf41b62c34f"
      },
      "execution_count": null,
      "outputs": [
        {
          "output_type": "stream",
          "name": "stdout",
          "text": [
            "1.0000066849139877\n",
            "0.6931471805599453\n",
            "0.0\n"
          ]
        }
      ]
    },
    {
      "cell_type": "markdown",
      "source": [
        "#math.isfinite"
      ],
      "metadata": {
        "id": "8wjc2hekeYmK"
      }
    },
    {
      "cell_type": "code",
      "source": [
        "a = 2\n",
        "print(math.isfinite(a))"
      ],
      "metadata": {
        "colab": {
          "base_uri": "https://localhost:8080/"
        },
        "id": "WrY-NEnSeMPG",
        "outputId": "05d7aeeb-c6e2-4815-a4c4-e2e2f6114868"
      },
      "execution_count": null,
      "outputs": [
        {
          "output_type": "stream",
          "name": "stdout",
          "text": [
            "True\n"
          ]
        }
      ]
    },
    {
      "cell_type": "code",
      "source": [
        "a = -12.12\n",
        "print(math.isfinite(a))"
      ],
      "metadata": {
        "colab": {
          "base_uri": "https://localhost:8080/"
        },
        "id": "vMNGq1kkecBa",
        "outputId": "e7387212-9c09-46e0-c1ff-89d6e2a5829c"
      },
      "execution_count": null,
      "outputs": [
        {
          "output_type": "stream",
          "name": "stdout",
          "text": [
            "True\n"
          ]
        }
      ]
    },
    {
      "cell_type": "markdown",
      "source": [
        "# math.fabs"
      ],
      "metadata": {
        "id": "oftWva4zetgD"
      }
    },
    {
      "cell_type": "code",
      "source": [
        "# Return absolute value:\n",
        "\n",
        "print(math.fabs(-66.43))\n",
        "print(math.fabs(-7))\n",
        "\n",
        "\n"
      ],
      "metadata": {
        "colab": {
          "base_uri": "https://localhost:8080/"
        },
        "id": "HEc4_Apde1fe",
        "outputId": "2e15f79e-4c31-4ac6-dc4f-9cc943a3c8cb"
      },
      "execution_count": null,
      "outputs": [
        {
          "output_type": "stream",
          "name": "stdout",
          "text": [
            "66.43\n",
            "7.0\n"
          ]
        }
      ]
    },
    {
      "cell_type": "markdown",
      "source": [
        "# math.factorial"
      ],
      "metadata": {
        "id": "vdvieoiOfglC"
      }
    },
    {
      "cell_type": "code",
      "source": [
        "#fatorial exp:\n",
        "# n! = n*(n-1)!\n",
        "#5! = 5*(5-1) \n",
        "#4! = 4*(4-1)\n",
        "#3! = 3*(3-1) \n",
        "#2! = 2*(2-1) \n",
        "#1! = 1*(1-1) \n",
        "#=120"
      ],
      "metadata": {
        "id": "7Sw0ST0bfuuN"
      },
      "execution_count": null,
      "outputs": []
    },
    {
      "cell_type": "code",
      "source": [
        "print(math.factorial(5))"
      ],
      "metadata": {
        "colab": {
          "base_uri": "https://localhost:8080/"
        },
        "id": "cXo-HMrVf37F",
        "outputId": "9b86f559-397c-4499-a8a6-42e824304961"
      },
      "execution_count": null,
      "outputs": [
        {
          "output_type": "stream",
          "name": "stdout",
          "text": [
            "120\n"
          ]
        }
      ]
    },
    {
      "cell_type": "code",
      "source": [
        "print(math.factorial(10))"
      ],
      "metadata": {
        "colab": {
          "base_uri": "https://localhost:8080/"
        },
        "id": "bhbzlFpff-jz",
        "outputId": "df2d7484-99c0-48ae-9c99-b7d4b6fd6be8"
      },
      "execution_count": null,
      "outputs": [
        {
          "output_type": "stream",
          "name": "stdout",
          "text": [
            "3628800\n"
          ]
        }
      ]
    },
    {
      "cell_type": "code",
      "source": [
        "print(math.factorial(8))"
      ],
      "metadata": {
        "colab": {
          "base_uri": "https://localhost:8080/"
        },
        "id": "wTVZ0txjgCNZ",
        "outputId": "e20bb012-990a-4519-e074-598b6079283a"
      },
      "execution_count": null,
      "outputs": [
        {
          "output_type": "stream",
          "name": "stdout",
          "text": [
            "40320\n"
          ]
        }
      ]
    },
    {
      "cell_type": "markdown",
      "source": [
        "# math.floor"
      ],
      "metadata": {
        "id": "7phQrjQbgIZL"
      }
    },
    {
      "cell_type": "code",
      "source": [
        "# Round numbers down to the nearest integer:\n",
        "\n",
        "print(math.floor(0.6))\n",
        "print(math.floor(1.4))\n",
        "print(math.floor(5.3))\n",
        "print(math.floor(-5.3))\n",
        "print(math.floor(22.6))\n",
        "print(math.floor(10.0))\n"
      ],
      "metadata": {
        "colab": {
          "base_uri": "https://localhost:8080/"
        },
        "id": "HeMMk274gHlk",
        "outputId": "cc36eb1c-e98a-4dc6-dae7-b7e4b5732e5b"
      },
      "execution_count": null,
      "outputs": [
        {
          "output_type": "stream",
          "name": "stdout",
          "text": [
            "0\n",
            "1\n",
            "5\n",
            "-6\n",
            "22\n",
            "10\n"
          ]
        }
      ]
    },
    {
      "cell_type": "markdown",
      "source": [
        "# math.fsum"
      ],
      "metadata": {
        "id": "ZQMuAQjXg7f2"
      }
    },
    {
      "cell_type": "code",
      "source": [
        "# Return the sum of all items:  \n",
        "\n",
        "print(math.fsum([1, 2, 3, 4, 5]))\n",
        "print(math.fsum([100, 400, 340, 500]))\n",
        "print(math.fsum([1.7, 0.3, 1.5, 4.5]))\n",
        "\n",
        "\n"
      ],
      "metadata": {
        "id": "Ly8zApjXg1bk",
        "colab": {
          "base_uri": "https://localhost:8080/"
        },
        "outputId": "c5dd9e64-a6ec-474a-9057-e6846acad93c"
      },
      "execution_count": 4,
      "outputs": [
        {
          "output_type": "stream",
          "name": "stdout",
          "text": [
            "15.0\n",
            "1340.0\n",
            "8.0\n"
          ]
        }
      ]
    },
    {
      "cell_type": "code",
      "source": [
        "# syntex\n",
        "#math.fsum(iterable)"
      ],
      "metadata": {
        "id": "YJEQqfK0fzd1"
      },
      "execution_count": null,
      "outputs": []
    },
    {
      "cell_type": "markdown",
      "source": [
        "# math.sqrt"
      ],
      "metadata": {
        "id": "6h5laGHUgRXt"
      }
    },
    {
      "cell_type": "code",
      "source": [
        "# Return the square root of different numbers\n",
        "print (math.sqrt(9))\n",
        "print (math.sqrt(25))\n",
        "print (math.sqrt(16))\n"
      ],
      "metadata": {
        "colab": {
          "base_uri": "https://localhost:8080/"
        },
        "id": "Z_bLvs0ggUR6",
        "outputId": "96c22576-ad6c-4e66-9100-0eae09651eab"
      },
      "execution_count": 5,
      "outputs": [
        {
          "output_type": "stream",
          "name": "stdout",
          "text": [
            "3.0\n",
            "5.0\n",
            "4.0\n"
          ]
        }
      ]
    },
    {
      "cell_type": "markdown",
      "source": [
        "#math.pow"
      ],
      "metadata": {
        "id": "yX2k2caEhEEn"
      }
    },
    {
      "cell_type": "code",
      "source": [
        "# Return the value of 9 raised to the power of 3\n",
        "print(math.pow(9, 3))\n"
      ],
      "metadata": {
        "colab": {
          "base_uri": "https://localhost:8080/"
        },
        "id": "7OqGSfDdgg8y",
        "outputId": "2df3870f-c509-4683-cc49-dd924aa3af16"
      },
      "execution_count": 6,
      "outputs": [
        {
          "output_type": "stream",
          "name": "stdout",
          "text": [
            "729.0\n"
          ]
        }
      ]
    },
    {
      "cell_type": "code",
      "source": [
        "print(math.pow(3,3))"
      ],
      "metadata": {
        "colab": {
          "base_uri": "https://localhost:8080/"
        },
        "id": "EMyi9G6VhLbl",
        "outputId": "6dece39e-297a-4efc-beec-4bb97eac3238"
      },
      "execution_count": 8,
      "outputs": [
        {
          "output_type": "stream",
          "name": "stdout",
          "text": [
            "27.0\n"
          ]
        }
      ]
    },
    {
      "cell_type": "markdown",
      "source": [
        "# math.copysign"
      ],
      "metadata": {
        "id": "X0q2KN1Rho1n"
      }
    },
    {
      "cell_type": "code",
      "source": [
        "#Return the value of the first parameter and the sign of the second parameter\n",
        "print(math.copysign(4, -1))\n",
        "print(math.copysign(-8, 97.21))\n",
        "print(math.copysign(-43, -76))\n"
      ],
      "metadata": {
        "colab": {
          "base_uri": "https://localhost:8080/"
        },
        "id": "dnQ2gJRjh42G",
        "outputId": "55c02c85-9768-4d6c-b2fa-07ff2161c976"
      },
      "execution_count": 10,
      "outputs": [
        {
          "output_type": "stream",
          "name": "stdout",
          "text": [
            "-4.0\n",
            "8.0\n",
            "-43.0\n"
          ]
        }
      ]
    },
    {
      "cell_type": "markdown",
      "source": [
        "# math.fmod"
      ],
      "metadata": {
        "id": "zeoMNS9Ai13k"
      }
    },
    {
      "cell_type": "code",
      "source": [
        "# Return the remainder of x/y\n",
        "#x\tRequired. A positive or negative number to divide\n",
        "#y\tRequired. A positive or negative number to divide x with\n",
        "\n",
        "print(math.fmod(20, 4))\n",
        "print(math.fmod(20, 3))\n",
        "print(math.fmod(15, 6))\n",
        "print(math.fmod(-10, 3))\n",
        "#print(math.fmod(0, 0))\n"
      ],
      "metadata": {
        "colab": {
          "base_uri": "https://localhost:8080/"
        },
        "id": "P_W329L1jFa8",
        "outputId": "52e27d4e-e7f0-4c4c-9315-9b2771aa3fa7"
      },
      "execution_count": 13,
      "outputs": [
        {
          "output_type": "stream",
          "name": "stdout",
          "text": [
            "0.0\n",
            "2.0\n",
            "3.0\n",
            "-1.0\n"
          ]
        }
      ]
    },
    {
      "cell_type": "markdown",
      "source": [
        "# math.gcd"
      ],
      "metadata": {
        "id": "BCtHmWmtlFsF"
      }
    },
    {
      "cell_type": "code",
      "source": [
        "#The math.gcd() method returns the greatest common divisor of the two integers int1 and int2.\n",
        "\n",
        "#GCD is the largest common divisor that divides the numbers without a remainder.\n",
        "\n",
        "#GCD is also known as the highest common factor (HCF).\n",
        "\n"
      ],
      "metadata": {
        "id": "7S0Jo8vllFF4"
      },
      "execution_count": 14,
      "outputs": []
    },
    {
      "cell_type": "code",
      "source": [
        "#find the  the greatest common divisor of the two integers\n",
        "print (math.gcd(3, 6))\n",
        "print (math.gcd(6, 12))\n",
        "print (math.gcd(12, 36))\n",
        "print (math.gcd(-12, -36))\n",
        "print (math.gcd(5, 12))\n",
        "print (math.gcd(10, 0))\n",
        "print (math.gcd(0, 34))\n",
        "print (math.gcd(0, 0))\n"
      ],
      "metadata": {
        "colab": {
          "base_uri": "https://localhost:8080/"
        },
        "id": "7nLRy6ZrlZAT",
        "outputId": "cc83956b-95ff-4cf1-fa72-9c8880c0c2d2"
      },
      "execution_count": 15,
      "outputs": [
        {
          "output_type": "stream",
          "name": "stdout",
          "text": [
            "3\n",
            "6\n",
            "12\n",
            "12\n",
            "1\n",
            "10\n",
            "34\n",
            "0\n"
          ]
        }
      ]
    },
    {
      "cell_type": "markdown",
      "source": [
        "#math.isinf"
      ],
      "metadata": {
        "id": "r7NvtxIqmm89"
      }
    },
    {
      "cell_type": "code",
      "source": [
        "# Check whether the values are infinite or not\n",
        "print(math.isinf(56))\n",
        "print(math.isinf(-45.34))\n",
        "print(math.isinf(+45.34))\n",
        "print(math.isinf(math.inf))\n",
        "print(math.isinf(float(\"nan\")))\n",
        "print(math.isinf(float(\"inf\")))\n",
        "print(math.isinf(float(\"-inf\")))\n",
        "print(math.isinf(-math.inf))\n"
      ],
      "metadata": {
        "colab": {
          "base_uri": "https://localhost:8080/"
        },
        "id": "4p06t0Eymt8f",
        "outputId": "6f881048-74ec-47fd-f7bc-63cfc270793a"
      },
      "execution_count": 16,
      "outputs": [
        {
          "output_type": "stream",
          "name": "stdout",
          "text": [
            "False\n",
            "False\n",
            "False\n",
            "True\n",
            "False\n",
            "True\n",
            "True\n",
            "True\n"
          ]
        }
      ]
    },
    {
      "cell_type": "markdown",
      "source": [
        "# math.isnan"
      ],
      "metadata": {
        "id": "gvcA3HMTnOti"
      }
    },
    {
      "cell_type": "code",
      "source": [
        "# Check whether some values are NaN or not\n",
        "print (math.isnan (56))\n",
        "print (math.isnan (-45.34))\n",
        "print (math.isnan (+45.34))\n",
        "print (math.isnan (math.inf))\n",
        "print (math.isnan (float(\"nan\")))\n",
        "print (math.isnan (float(\"inf\")))\n",
        "print (math.isnan (float(\"-inf\")))\n",
        "print (math.isnan (math.nan))"
      ],
      "metadata": {
        "colab": {
          "base_uri": "https://localhost:8080/"
        },
        "id": "hVLqYK3InWHq",
        "outputId": "a1b1f837-6b15-4aa6-c334-1c18e3d596d8"
      },
      "execution_count": 17,
      "outputs": [
        {
          "output_type": "stream",
          "name": "stdout",
          "text": [
            "False\n",
            "False\n",
            "False\n",
            "False\n",
            "True\n",
            "False\n",
            "False\n",
            "True\n"
          ]
        }
      ]
    },
    {
      "cell_type": "markdown",
      "source": [
        "#math.prod"
      ],
      "metadata": {
        "id": "KVWMJEuwo8hR"
      }
    },
    {
      "cell_type": "code",
      "source": [
        "sequence = (2, 2, 2)\n",
        "\n",
        "#Return the product of the elements\n",
        "print(math.prod(sequence))"
      ],
      "metadata": {
        "colab": {
          "base_uri": "https://localhost:8080/"
        },
        "id": "mlpk8_GMpADM",
        "outputId": "c4e8aa77-d364-4e74-8cc6-8a390808bf84"
      },
      "execution_count": 18,
      "outputs": [
        {
          "output_type": "stream",
          "name": "stdout",
          "text": [
            "8\n"
          ]
        }
      ]
    },
    {
      "cell_type": "code",
      "source": [
        "a = (2,3,5)\n",
        "print(math.prod(sequence))\n"
      ],
      "metadata": {
        "colab": {
          "base_uri": "https://localhost:8080/"
        },
        "id": "X28uzAkvpJ3P",
        "outputId": "d39477c9-3211-4799-de55-b779000dfef3"
      },
      "execution_count": 21,
      "outputs": [
        {
          "output_type": "stream",
          "name": "stdout",
          "text": [
            "8\n"
          ]
        }
      ]
    },
    {
      "cell_type": "markdown",
      "source": [
        "# math.remainder"
      ],
      "metadata": {
        "id": "C4mdSuGOp_FI"
      }
    },
    {
      "cell_type": "code",
      "source": [
        "# Return the remainder of x with respect to y:\n",
        "\n",
        "print (math.remainder(9, 2))\n",
        "print (math.remainder(9, 3))\n",
        "print (math.remainder(18, 4))\n"
      ],
      "metadata": {
        "colab": {
          "base_uri": "https://localhost:8080/"
        },
        "id": "yqbSqc9zqHiy",
        "outputId": "fbb7c18b-a10a-4458-a844-96b1befca4ab"
      },
      "execution_count": 22,
      "outputs": [
        {
          "output_type": "stream",
          "name": "stdout",
          "text": [
            "1.0\n",
            "0.0\n",
            "2.0\n"
          ]
        }
      ]
    }
  ]
}